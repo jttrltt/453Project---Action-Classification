{
 "cells": [
  {
   "cell_type": "code",
   "execution_count": 80,
   "metadata": {},
   "outputs": [],
   "source": [
    "import pandas as pd"
   ]
  },
  {
   "cell_type": "code",
   "execution_count": 81,
   "metadata": {},
   "outputs": [],
   "source": [
    "df = pd.read_csv(\"jester-v1-combined.csv\")"
   ]
  },
  {
   "cell_type": "code",
   "execution_count": 82,
   "metadata": {},
   "outputs": [],
   "source": [
    "import numpy as np\n",
    "from sklearn.model_selection import train_test_split"
   ]
  },
  {
   "cell_type": "code",
   "execution_count": 83,
   "metadata": {},
   "outputs": [],
   "source": [
    "X = df['Index']"
   ]
  },
  {
   "cell_type": "code",
   "execution_count": 84,
   "metadata": {},
   "outputs": [],
   "source": [
    "y = df['Label']"
   ]
  },
  {
   "cell_type": "code",
   "execution_count": 85,
   "metadata": {},
   "outputs": [],
   "source": [
    "def get_dataset(X, y, random_state, sub_size=0.30, train_size=0.80, valid_size=0.10, test_size=0.10):\n",
    "    # Get sub_dataset first, in this case we select 20% of the whole dataset\n",
    "    X_1, _, y_1, _ = train_test_split(X, y, stratify=y, test_size=1-sub_size, random_state=random_state)\n",
    "    # Get the test set and the train_val set\n",
    "    X_train_val, X_test, y_train_val, y_test = train_test_split(X_1, y_1, \n",
    "                                                                stratify=y_1, test_size=test_size, random_state=random_state)\n",
    "    X_train, X_val, y_train, y_val = train_test_split(X_train_val, y_train_val, stratify=y_train_val, test_size=valid_size/(valid_size+train_size), random_state=random_state)\n",
    "    return X_train, X_val, X_test, y_train, y_val, y_test\n",
    "    "
   ]
  },
  {
   "cell_type": "code",
   "execution_count": 86,
   "metadata": {},
   "outputs": [],
   "source": [
    "X_train, X_test, y_train, y_test = train_test_split(X, y, stratify=y, test_size=0.33, random_state=42)"
   ]
  },
  {
   "cell_type": "code",
   "execution_count": 87,
   "metadata": {},
   "outputs": [],
   "source": [
    "X_train, X_val, X_test, y_train, y_val, y_test = get_dataset(X, y, 43)"
   ]
  },
  {
   "cell_type": "code",
   "execution_count": 88,
   "metadata": {
    "scrolled": true
   },
   "outputs": [
    {
     "name": "stdout",
     "output_type": "stream",
     "text": [
      "32002\n",
      "4001\n",
      "4001\n"
     ]
    }
   ],
   "source": [
    "# Note: there are a total of 133350 examples, selecting 20% means there are 26670 examples\n",
    "print(len(X_train))\n",
    "print(len(X_val))\n",
    "print(len(X_test))"
   ]
  },
  {
   "cell_type": "code",
   "execution_count": 89,
   "metadata": {},
   "outputs": [],
   "source": [
    "# Count the number of occurences in the series\n",
    "# y_train.value_counts().to_dict()"
   ]
  },
  {
   "cell_type": "code",
   "execution_count": 90,
   "metadata": {},
   "outputs": [],
   "source": [
    "train_df = pd.concat([X_train, y_train], axis=1)\n",
    "train_df.reset_index(inplace=True)\n",
    "train_df.drop(columns=['index'], axis=1, inplace=True)\n",
    "\n",
    "val_df = pd.concat([X_val, y_val], axis=1)\n",
    "val_df.reset_index(inplace=True)\n",
    "val_df.drop(columns=['index'], axis=1, inplace=True)\n",
    "\n",
    "test_df = pd.concat([X_test, y_test], axis=1)\n",
    "test_df.reset_index(inplace=True)\n",
    "test_df.drop(columns=['index'], axis=1, inplace=True)"
   ]
  },
  {
   "cell_type": "code",
   "execution_count": 91,
   "metadata": {},
   "outputs": [],
   "source": [
    "# If we only want a subset of labels, execute the code below\n",
    "labels = pd.read_csv('jester-v1-labels.csv')\n",
    "# We don't want to include \"Doing other things\"\n",
    "labels.drop([26],inplace=True)\n",
    "selected_labels = list(labels['Label'].sample(n=10, random_state=43))\n",
    "train_df = train_df[train_df['Label'].isin(selected_labels)]\n",
    "val_df = val_df[val_df['Label'].isin(selected_labels)]\n",
    "test_df = test_df[test_df['Label'].isin(selected_labels)]"
   ]
  },
  {
   "cell_type": "code",
   "execution_count": 92,
   "metadata": {},
   "outputs": [],
   "source": [
    "train_df.to_csv('train_set.csv')\n",
    "val_df.to_csv('val_set.csv')\n",
    "test_df.to_csv('test_set.csv')"
   ]
  }
 ],
 "metadata": {
  "kernelspec": {
   "display_name": "Python [conda env:root] *",
   "language": "python",
   "name": "conda-root-py"
  },
  "language_info": {
   "codemirror_mode": {
    "name": "ipython",
    "version": 3
   },
   "file_extension": ".py",
   "mimetype": "text/x-python",
   "name": "python",
   "nbconvert_exporter": "python",
   "pygments_lexer": "ipython3",
   "version": "3.6.5"
  }
 },
 "nbformat": 4,
 "nbformat_minor": 2
}
