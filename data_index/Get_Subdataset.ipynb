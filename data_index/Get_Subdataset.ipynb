{
 "cells": [
  {
   "cell_type": "code",
   "execution_count": 1,
   "metadata": {},
   "outputs": [],
   "source": [
    "import pandas as pd"
   ]
  },
  {
   "cell_type": "code",
   "execution_count": 18,
   "metadata": {},
   "outputs": [],
   "source": [
    "df = pd.read_csv(\"jester-v1-combined.csv\")"
   ]
  },
  {
   "cell_type": "code",
   "execution_count": 25,
   "metadata": {},
   "outputs": [],
   "source": [
    "import numpy as np\n",
    "from sklearn.model_selection import train_test_split"
   ]
  },
  {
   "cell_type": "code",
   "execution_count": 20,
   "metadata": {},
   "outputs": [],
   "source": [
    "X = df['Index']"
   ]
  },
  {
   "cell_type": "code",
   "execution_count": 21,
   "metadata": {},
   "outputs": [],
   "source": [
    "y = df['Label']"
   ]
  },
  {
   "cell_type": "code",
   "execution_count": 29,
   "metadata": {},
   "outputs": [],
   "source": [
    "def get_dataset(X, y, random_state, sub_size=0.20, train_size=0.80, valid_size=0.10, test_size=0.10):\n",
    "    # Get sub_dataset first, in this case we select 20% of the whole dataset\n",
    "    X_1, _, y_1, _ = train_test_split(X, y, stratify=y, test_size=1-sub_size, random_state=random_state)\n",
    "    # Get the test set and the train_val set\n",
    "    X_train_val, X_test, y_train_val, y_test = train_test_split(X_1, y_1, \n",
    "                                                                stratify=y_1, test_size=test_size, random_state=random_state)\n",
    "    X_train, X_val, y_train, y_val = train_test_split(X_train_val, y_train_val, stratify=y_train_val, test_size=valid_size/(valid_size+train_size), random_state=random_state)\n",
    "    return X_train, X_val, X_test, y_train, y_val, y_test\n",
    "    "
   ]
  },
  {
   "cell_type": "code",
   "execution_count": 22,
   "metadata": {},
   "outputs": [],
   "source": [
    "X_train, X_test, y_train, y_test = train_test_split(X, y, stratify=y, test_size=0.33, random_state=42)"
   ]
  },
  {
   "cell_type": "code",
   "execution_count": 30,
   "metadata": {},
   "outputs": [],
   "source": [
    "X_train, X_val, X_test, y_train, y_val, y_test = get_dataset(X, y, 43)"
   ]
  },
  {
   "cell_type": "code",
   "execution_count": 35,
   "metadata": {
    "scrolled": true
   },
   "outputs": [
    {
     "data": {
      "text/plain": [
       "21335"
      ]
     },
     "execution_count": 35,
     "metadata": {},
     "output_type": "execute_result"
    }
   ],
   "source": [
    "# Note: there are a total of 133350 examples, selecting 20% means there are 26670 examples\n",
    "len(X_train)"
   ]
  },
  {
   "cell_type": "code",
   "execution_count": 36,
   "metadata": {},
   "outputs": [
    {
     "data": {
      "text/plain": [
       "2667"
      ]
     },
     "execution_count": 36,
     "metadata": {},
     "output_type": "execute_result"
    }
   ],
   "source": [
    "len(X_val)"
   ]
  },
  {
   "cell_type": "code",
   "execution_count": 37,
   "metadata": {},
   "outputs": [
    {
     "data": {
      "text/plain": [
       "2667"
      ]
     },
     "execution_count": 37,
     "metadata": {},
     "output_type": "execute_result"
    }
   ],
   "source": [
    "len(X_test)"
   ]
  },
  {
   "cell_type": "code",
   "execution_count": 23,
   "metadata": {},
   "outputs": [
    {
     "data": {
      "text/plain": [
       "3399             Sliding Two Fingers Up\n",
       "52232             Rolling Hand Backward\n",
       "98418                      Swiping Down\n",
       "121000               Doing other things\n",
       "40830            Turning Hand Clockwise\n",
       "59375       Zooming In With Two Fingers\n",
       "5365                         No gesture\n",
       "119807         Sliding Two Fingers Left\n",
       "31340          Sliding Two Fingers Left\n",
       "35575            Sliding Two Fingers Up\n",
       "54424                         Stop Sign\n",
       "90381                        No gesture\n",
       "96522                          Thumb Up\n",
       "93330     Turning Hand Counterclockwise\n",
       "54800                   Pulling Hand In\n",
       "70655            Sliding Two Fingers Up\n",
       "59520              Rolling Hand Forward\n",
       "18625                      Swiping Left\n",
       "123946        Sliding Two Fingers Right\n",
       "57007                 Pushing Hand Away\n",
       "53087          Sliding Two Fingers Down\n",
       "62490            Sliding Two Fingers Up\n",
       "78074                      Shaking Hand\n",
       "112590         Pushing Two Fingers Away\n",
       "67476        Zooming Out With Full Hand\n",
       "126343           Pulling Two Fingers In\n",
       "38416          Pushing Two Fingers Away\n",
       "57088                      Swiping Down\n",
       "26311                          Thumb Up\n",
       "21088                        No gesture\n",
       "                      ...              \n",
       "16631                        No gesture\n",
       "99618                      Shaking Hand\n",
       "86784                        Swiping Up\n",
       "18184            Sliding Two Fingers Up\n",
       "70854                      Swiping Left\n",
       "62319              Rolling Hand Forward\n",
       "122649           Pulling Two Fingers In\n",
       "6607                 Doing other things\n",
       "39688                        Thumb Down\n",
       "8915             Turning Hand Clockwise\n",
       "27223              Rolling Hand Forward\n",
       "23154          Pushing Two Fingers Away\n",
       "128373                       Swiping Up\n",
       "6286                          Stop Sign\n",
       "72153         Zooming In With Full Hand\n",
       "64740                        Thumb Down\n",
       "1260                    Pulling Hand In\n",
       "37868                      Shaking Hand\n",
       "10089             Rolling Hand Backward\n",
       "128217           Turning Hand Clockwise\n",
       "27279      Zooming Out With Two Fingers\n",
       "25406          Pushing Two Fingers Away\n",
       "90253                   Pulling Hand In\n",
       "60543            Sliding Two Fingers Up\n",
       "118221             Rolling Hand Forward\n",
       "34934      Zooming Out With Two Fingers\n",
       "51043              Rolling Hand Forward\n",
       "108262                        Stop Sign\n",
       "61971              Rolling Hand Forward\n",
       "7739                           Thumb Up\n",
       "Name: Label, Length: 89343, dtype: object"
      ]
     },
     "execution_count": 23,
     "metadata": {},
     "output_type": "execute_result"
    }
   ],
   "source": [
    "y_train"
   ]
  },
  {
   "cell_type": "code",
   "execution_count": 42,
   "metadata": {},
   "outputs": [
    {
     "data": {
      "text/plain": [
       "{'Doing other things': 1770,\n",
       " 'Thumb Down': 787,\n",
       " 'Thumb Up': 786,\n",
       " 'Drumming Fingers': 785,\n",
       " 'Pushing Hand Away': 783,\n",
       " 'Sliding Two Fingers Down': 780,\n",
       " 'Stop Sign': 780,\n",
       " 'Zooming Out With Two Fingers': 777,\n",
       " 'Pulling Hand In': 776,\n",
       " 'Zooming In With Two Fingers': 772,\n",
       " 'Pushing Two Fingers Away': 772,\n",
       " 'No gesture': 770,\n",
       " 'Sliding Two Fingers Left': 770,\n",
       " 'Zooming Out With Full Hand': 769,\n",
       " 'Pulling Two Fingers In': 765,\n",
       " 'Shaking Hand': 765,\n",
       " 'Zooming In With Full Hand': 764,\n",
       " 'Swiping Down': 764,\n",
       " 'Sliding Two Fingers Up': 758,\n",
       " 'Sliding Two Fingers Right': 756,\n",
       " 'Swiping Up': 756,\n",
       " 'Swiping Left': 745,\n",
       " 'Rolling Hand Forward': 745,\n",
       " 'Swiping Right': 732,\n",
       " 'Rolling Hand Backward': 724,\n",
       " 'Turning Hand Counterclockwise': 608,\n",
       " 'Turning Hand Clockwise': 576}"
      ]
     },
     "execution_count": 42,
     "metadata": {},
     "output_type": "execute_result"
    }
   ],
   "source": [
    "# Count the number of occurences in the series\n",
    "y_train.value_counts().to_dict()"
   ]
  },
  {
   "cell_type": "code",
   "execution_count": 56,
   "metadata": {},
   "outputs": [],
   "source": [
    "train_df = pd.concat([X_train, y_train], axis=1)\n",
    "train_df.reset_index(inplace=True)\n",
    "train_df.drop(columns=['index'], axis=1, inplace=True)"
   ]
  },
  {
   "cell_type": "code",
   "execution_count": 58,
   "metadata": {},
   "outputs": [],
   "source": [
    "train_df.to_csv('train_set.csv')"
   ]
  },
  {
   "cell_type": "code",
   "execution_count": 59,
   "metadata": {},
   "outputs": [],
   "source": [
    "val_df = pd.concat([X_val, y_val], axis=1)\n",
    "val_df.reset_index(inplace=True)\n",
    "val_df.drop(columns=['index'], axis=1, inplace=True)"
   ]
  },
  {
   "cell_type": "code",
   "execution_count": 60,
   "metadata": {},
   "outputs": [],
   "source": [
    "val_df.to_csv('val_set.csv')"
   ]
  },
  {
   "cell_type": "code",
   "execution_count": 61,
   "metadata": {},
   "outputs": [],
   "source": [
    "test_df = pd.concat([X_test, y_test], axis=1)\n",
    "test_df.reset_index(inplace=True)\n",
    "test_df.drop(columns=['index'], axis=1, inplace=True)"
   ]
  },
  {
   "cell_type": "code",
   "execution_count": 62,
   "metadata": {},
   "outputs": [],
   "source": [
    "test_df.to_csv('test_set.csv')"
   ]
  }
 ],
 "metadata": {
  "kernelspec": {
   "display_name": "Python [conda env:root] *",
   "language": "python",
   "name": "conda-root-py"
  },
  "language_info": {
   "codemirror_mode": {
    "name": "ipython",
    "version": 3
   },
   "file_extension": ".py",
   "mimetype": "text/x-python",
   "name": "python",
   "nbconvert_exporter": "python",
   "pygments_lexer": "ipython3",
   "version": "3.6.5"
  }
 },
 "nbformat": 4,
 "nbformat_minor": 2
}
