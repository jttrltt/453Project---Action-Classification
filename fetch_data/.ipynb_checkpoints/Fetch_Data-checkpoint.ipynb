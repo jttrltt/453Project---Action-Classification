{
 "cells": [
  {
   "cell_type": "code",
   "execution_count": 1,
   "metadata": {},
   "outputs": [],
   "source": [
    "import pandas as pd"
   ]
  },
  {
   "cell_type": "code",
   "execution_count": 4,
   "metadata": {},
   "outputs": [],
   "source": [
    "train_df = pd.read_csv('train_set.csv')\n",
    "val_df = pd.read_csv('val_set.csv')\n",
    "test_df = pd.read_csv('test_set.csv')"
   ]
  },
  {
   "cell_type": "code",
   "execution_count": 5,
   "metadata": {},
   "outputs": [],
   "source": [
    "train_indices = list(train_df['Index'])\n",
    "val_indices = list(val_df['Index'])\n",
    "test_indices = list(test_df['Index'])"
   ]
  },
  {
   "cell_type": "code",
   "execution_count": 20,
   "metadata": {},
   "outputs": [],
   "source": [
    "# importing os module  \n",
    "import os  \n",
    "\n",
    "from os import listdir\n",
    "   \n",
    "# importing shutil module  \n",
    "import shutil  "
   ]
  },
  {
   "cell_type": "code",
   "execution_count": 15,
   "metadata": {},
   "outputs": [],
   "source": [
    "# Source path  \n",
    "src = 'F:/20bn-jester-data/extracted/20bn-jester-v1/1'\n",
    "   \n",
    "# Destination path  \n",
    "dest = '1'"
   ]
  },
  {
   "cell_type": "code",
   "execution_count": null,
   "metadata": {},
   "outputs": [],
   "source": [
    "for i in train_indices:\n",
    "    src = 'F:/20bn-jester-data/extracted/20bn-jester-v1/' + str(i)\n",
    "    dest = 'train/' + str(i)\n",
    "    shutil.copytree(src, dest)"
   ]
  },
  {
   "cell_type": "code",
   "execution_count": null,
   "metadata": {},
   "outputs": [],
   "source": [
    "for i in val_indices:\n",
    "    src = 'F:/20bn-jester-data/extracted/20bn-jester-v1/' + str(i)\n",
    "    dest = 'val/' + str(i)\n",
    "    shutil.copytree(src, dest)"
   ]
  },
  {
   "cell_type": "code",
   "execution_count": 17,
   "metadata": {},
   "outputs": [],
   "source": [
    "for i in test_indices:\n",
    "    src = 'F:/20bn-jester-data/extracted/20bn-jester-v1/' + str(i)\n",
    "    dest = 'test/' + str(i)\n",
    "    shutil.copytree(src, dest)"
   ]
  },
  {
   "cell_type": "code",
   "execution_count": null,
   "metadata": {},
   "outputs": [],
   "source": [
    "def process_file(file):\n",
    "    src = 'F:/20bn-jester-data/extracted/20bn-jester-v1/' + str(i)\n",
    "    dest = 'val/' + str(i)\n",
    "    shutil.copytree(src, dest)"
   ]
  },
  {
   "cell_type": "code",
   "execution_count": null,
   "metadata": {},
   "outputs": [],
   "source": [
    "if __name__ == '__main__':\n",
    "    p = Pool(12)\n",
    "    p.map(process_file, val_indices)"
   ]
  },
  {
   "cell_type": "code",
   "execution_count": 22,
   "metadata": {
    "scrolled": true
   },
   "outputs": [
    {
     "data": {
      "text/plain": [
       "list"
      ]
     },
     "execution_count": 22,
     "metadata": {},
     "output_type": "execute_result"
    }
   ],
   "source": [
    "type(listdir())"
   ]
  },
  {
   "cell_type": "code",
   "execution_count": 16,
   "metadata": {},
   "outputs": [],
   "source": [
    "destination = shutil.copytree(src, dest) "
   ]
  }
 ],
 "metadata": {
  "kernelspec": {
   "display_name": "Python 3",
   "language": "python",
   "name": "python3"
  },
  "language_info": {
   "codemirror_mode": {
    "name": "ipython",
    "version": 3
   },
   "file_extension": ".py",
   "mimetype": "text/x-python",
   "name": "python",
   "nbconvert_exporter": "python",
   "pygments_lexer": "ipython3",
   "version": "3.6.5"
  }
 },
 "nbformat": 4,
 "nbformat_minor": 2
}
